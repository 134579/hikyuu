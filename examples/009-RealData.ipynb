{
 "cells": [
  {
   "cell_type": "code",
   "execution_count": 1,
   "metadata": {
    "collapsed": false
   },
   "outputs": [
    {
     "name": "stdout",
     "output_type": "stream",
     "text": [
      "Wall time: 6.67 s\n"
     ]
    }
   ],
   "source": [
    "%matplotlib inline\n",
    "%time from hikyuu.interactive.interactive import *"
   ]
  },
  {
   "cell_type": "markdown",
   "metadata": {},
   "source": [
    "# 获取实时日线数据\n",
    "\n",
    "目前仅支持获取实时日线数据，使用函数 realtimeUpdate(source)。其中，source支持 'sina' | 'qq' | 'tushare'，默认使用 tushare。\n",
    "\n",
    "tushare 需安装 Python tushare 库，pip install tushare.\n",
    "\n",
    "**使用 sina 或 qq 时，应注意控制两次获取数据之间的间隔时长，以免 ip 被 sina 或 qq 列入黑名单。**"
   ]
  },
  {
   "cell_type": "code",
   "execution_count": 2,
   "metadata": {
    "collapsed": false
   },
   "outputs": [
    {
     "name": "stdout",
     "output_type": "stream",
     "text": [
      "Wall time: 4.42 s\n"
     ]
    }
   ],
   "source": [
    "%time realtimeUpdate('tushare')"
   ]
  },
  {
   "cell_type": "code",
   "execution_count": 3,
   "metadata": {
    "collapsed": false
   },
   "outputs": [
    {
     "name": "stdout",
     "output_type": "stream",
     "text": [
      "Wall time: 2.46 s\n"
     ]
    }
   ],
   "source": [
    "%time realtimeUpdate('sina')"
   ]
  },
  {
   "cell_type": "code",
   "execution_count": 4,
   "metadata": {
    "collapsed": false
   },
   "outputs": [
    {
     "name": "stdout",
     "output_type": "stream",
     "text": [
      "Wall time: 20.3 s\n"
     ]
    }
   ],
   "source": [
    "%time realtimeUpdate('qq')"
   ]
  },
  {
   "cell_type": "code",
   "execution_count": 5,
   "metadata": {
    "collapsed": false
   },
   "outputs": [
    {
     "name": "stdout",
     "output_type": "stream",
     "text": [
      "Wall time: 2.59 s\n"
     ]
    }
   ],
   "source": [
    "#防止过于频繁更新数据，代码示例如下，delta 为更新的间隔描述。\n",
    "from datetime import timedelta, date, datetime\n",
    "delta = 60\n",
    "source = 'sina'\n",
    "if 'pre_update_time' in locals():\n",
    "    now_update_time = datetime.now()\n",
    "    if (now_update_time - pre_update_time) > timedelta(0, delta, 0):\n",
    "        %time realtimeUpdate(source = source)\n",
    "        pre_update_time = now_update_time\n",
    "    else:\n",
    "        print(\"更新间隔小于\" + str(delta) + \"秒，未更新\")\n",
    "else:\n",
    "    %time realtimeUpdate(source = source)\n",
    "    pre_update_time = datetime.now()"
   ]
  },
  {
   "cell_type": "code",
   "execution_count": null,
   "metadata": {
    "collapsed": true
   },
   "outputs": [],
   "source": []
  }
 ],
 "metadata": {
  "kernelspec": {
   "display_name": "Python [conda root]",
   "language": "python",
   "name": "conda-root-py"
  },
  "language_info": {
   "codemirror_mode": {
    "name": "ipython",
    "version": 3
   },
   "file_extension": ".py",
   "mimetype": "text/x-python",
   "name": "python",
   "nbconvert_exporter": "python",
   "pygments_lexer": "ipython3",
   "version": "3.5.3"
  }
 },
 "nbformat": 4,
 "nbformat_minor": 2
}
