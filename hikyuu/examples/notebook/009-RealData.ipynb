{
 "cells": [
  {
   "cell_type": "code",
   "execution_count": 3,
   "metadata": {},
   "outputs": [
    {
     "name": "stdout",
     "output_type": "stream",
     "text": [
      "std::cout are redirected to python::stdout\n",
      "std::cerr are redirected to python::stderr\n",
      "2020-07-17 21:49:20.593 [HKU-I] - Loading market information... [hku::BaseInfoDriver::loadBaseInfo]\n",
      "2020-07-17 21:49:20.597 [HKU-I] - Loading stock type information... [hku::BaseInfoDriver::loadBaseInfo]\n",
      "2020-07-17 21:49:20.598 [HKU-I] - Loading stock information... [hku::BaseInfoDriver::loadBaseInfo]\n",
      "2020-07-17 21:49:22.927 [HKU-I] - Loading KData... [hku::StockManager::init]\n",
      "2020-07-17 21:49:22.935 [HKU-I] - Preloading all day kdata to buffer! [hku::StockManager::setKDataDriver]\n",
      "2020-07-17 21:49:37.535 [HKU-I] - 14.61s Loaded Data. [hku::StockManager::init]\n",
      "Wall time: 17.7 s\n"
     ]
    }
   ],
   "source": [
    "%matplotlib inline\n",
    "%time from hikyuu import *"
   ]
  },
  {
   "cell_type": "markdown",
   "metadata": {},
   "source": [
    "# 获取实时日线数据\n",
    "\n",
    "目前仅支持获取实时日线数据，使用函数 realtimeUpdate(source, delta=60)。其中，source支持 'sina' | 'qq' | 'tushare'，默认使用 tushare。\n",
    "\n",
    "tushare 需安装 Python tushare 库，pip install tushare.\n",
    "\n",
    "**使用 sina 或 qq 时，应注意控制两次获取数据之间的间隔时长（使用参数delta，默认时长60s），以免 ip 被 sina 或 qq 列入黑名单。**"
   ]
  },
  {
   "cell_type": "code",
   "execution_count": 7,
   "metadata": {},
   "outputs": [
    {
     "name": "stdout",
     "output_type": "stream",
     "text": [
      "更新间隔小于60秒，未更新\n",
      "上次更新时间:  2020-07-17 21:59:11.752063\n",
      "Wall time: 486 µs\n"
     ]
    }
   ],
   "source": [
    "%time realtime_update('sina')"
   ]
  },
  {
   "cell_type": "code",
   "execution_count": 6,
   "metadata": {},
   "outputs": [
    {
     "name": "stdout",
     "output_type": "stream",
     "text": [
      "更新完毕！ 2020-07-17 21:59:11.752063\n",
      "Wall time: 19.1 s\n"
     ]
    }
   ],
   "source": [
    "%time realtime_update('qq')"
   ]
  },
  {
   "cell_type": "code",
   "execution_count": null,
   "metadata": {
    "collapsed": true
   },
   "outputs": [],
   "source": []
  }
 ],
 "metadata": {
  "kernelspec": {
   "display_name": "Python 3",
   "language": "python",
   "name": "python3"
  },
  "language_info": {
   "codemirror_mode": {
    "name": "ipython",
    "version": 3
   },
   "file_extension": ".py",
   "mimetype": "text/x-python",
   "name": "python",
   "nbconvert_exporter": "python",
   "pygments_lexer": "ipython3",
   "version": "3.7.6"
  }
 },
 "nbformat": 4,
 "nbformat_minor": 2
}
